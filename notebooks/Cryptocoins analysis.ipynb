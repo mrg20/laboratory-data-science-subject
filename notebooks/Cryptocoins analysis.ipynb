{
 "cells": [
  {
   "cell_type": "code",
   "execution_count": 2,
   "metadata": {},
   "outputs": [],
   "source": [
    "import pandas as pd\n",
    "import numpy as np\n",
    "import seaborn as sns\n",
    "import matplotlib.pyplot as plt"
   ]
  },
  {
   "cell_type": "code",
   "execution_count": 3,
   "metadata": {},
   "outputs": [],
   "source": [
    "plt.rcParams['figure.figsize'] = (20, 15)\n",
    "\n",
    "cryptocurrency='../data/raw/cryptocurrency/'\n",
    "iris='../data/raw/iris/'\n",
    "measures='../data/raw/measures/'"
   ]
  },
  {
   "cell_type": "markdown",
   "metadata": {},
   "source": [
    "# Bitcoin csvs analysis\n",
    "\n",
    "In order to start the analysis over the cryptocurrency dataset, we will start by the bitcoin currency."
   ]
  },
  {
   "cell_type": "markdown",
   "metadata": {},
   "source": [
    "First of all we will load the 3 bitcoin datasets"
   ]
  },
  {
   "cell_type": "code",
   "execution_count": 5,
   "metadata": {},
   "outputs": [],
   "source": [
    "dfp = pd.read_csv(cryptocurrency+'bitcoin_price.csv', index_col='Date')\n",
    "dfcp = pd.read_csv(cryptocurrency+'bitcoin_cash_price.csv', index_col='Date')\n",
    "dfd = pd.read_csv(cryptocurrency+'bitcoin_dataset.csv', index_col='Date')"
   ]
  },
  {
   "cell_type": "markdown",
   "metadata": {},
   "source": [
    "Lets visualize the bitcoin price data"
   ]
  },
  {
   "cell_type": "code",
   "execution_count": 6,
   "metadata": {},
   "outputs": [
    {
     "data": {
      "text/html": [
       "<div>\n",
       "<style scoped>\n",
       "    .dataframe tbody tr th:only-of-type {\n",
       "        vertical-align: middle;\n",
       "    }\n",
       "\n",
       "    .dataframe tbody tr th {\n",
       "        vertical-align: top;\n",
       "    }\n",
       "\n",
       "    .dataframe thead th {\n",
       "        text-align: right;\n",
       "    }\n",
       "</style>\n",
       "<table border=\"1\" class=\"dataframe\">\n",
       "  <thead>\n",
       "    <tr style=\"text-align: right;\">\n",
       "      <th></th>\n",
       "      <th>Open</th>\n",
       "      <th>High</th>\n",
       "      <th>Low</th>\n",
       "      <th>Close</th>\n",
       "      <th>Volume</th>\n",
       "      <th>Market Cap</th>\n",
       "    </tr>\n",
       "    <tr>\n",
       "      <th>Date</th>\n",
       "      <th></th>\n",
       "      <th></th>\n",
       "      <th></th>\n",
       "      <th></th>\n",
       "      <th></th>\n",
       "      <th></th>\n",
       "    </tr>\n",
       "  </thead>\n",
       "  <tbody>\n",
       "    <tr>\n",
       "      <th>Sep 05, 2017</th>\n",
       "      <td>4228.29</td>\n",
       "      <td>4427.84</td>\n",
       "      <td>3998.11</td>\n",
       "      <td>4376.53</td>\n",
       "      <td>2697970000</td>\n",
       "      <td>69954400000</td>\n",
       "    </tr>\n",
       "    <tr>\n",
       "      <th>Sep 04, 2017</th>\n",
       "      <td>4591.63</td>\n",
       "      <td>4591.63</td>\n",
       "      <td>4108.40</td>\n",
       "      <td>4236.31</td>\n",
       "      <td>2987330000</td>\n",
       "      <td>75955500000</td>\n",
       "    </tr>\n",
       "    <tr>\n",
       "      <th>Sep 03, 2017</th>\n",
       "      <td>4585.27</td>\n",
       "      <td>4714.08</td>\n",
       "      <td>4417.59</td>\n",
       "      <td>4582.96</td>\n",
       "      <td>1933190000</td>\n",
       "      <td>75841700000</td>\n",
       "    </tr>\n",
       "    <tr>\n",
       "      <th>Sep 02, 2017</th>\n",
       "      <td>4901.42</td>\n",
       "      <td>4975.04</td>\n",
       "      <td>4469.24</td>\n",
       "      <td>4578.77</td>\n",
       "      <td>2722140000</td>\n",
       "      <td>81060600000</td>\n",
       "    </tr>\n",
       "    <tr>\n",
       "      <th>Sep 01, 2017</th>\n",
       "      <td>4701.76</td>\n",
       "      <td>4892.01</td>\n",
       "      <td>4678.53</td>\n",
       "      <td>4892.01</td>\n",
       "      <td>2599080000</td>\n",
       "      <td>77748400000</td>\n",
       "    </tr>\n",
       "  </tbody>\n",
       "</table>\n",
       "</div>"
      ],
      "text/plain": [
       "                 Open     High      Low    Close      Volume   Market Cap\n",
       "Date                                                                     \n",
       "Sep 05, 2017  4228.29  4427.84  3998.11  4376.53  2697970000  69954400000\n",
       "Sep 04, 2017  4591.63  4591.63  4108.40  4236.31  2987330000  75955500000\n",
       "Sep 03, 2017  4585.27  4714.08  4417.59  4582.96  1933190000  75841700000\n",
       "Sep 02, 2017  4901.42  4975.04  4469.24  4578.77  2722140000  81060600000\n",
       "Sep 01, 2017  4701.76  4892.01  4678.53  4892.01  2599080000  77748400000"
      ]
     },
     "execution_count": 6,
     "metadata": {},
     "output_type": "execute_result"
    }
   ],
   "source": [
    "dfp.head()"
   ]
  },
  {
   "cell_type": "code",
   "execution_count": 8,
   "metadata": {},
   "outputs": [
    {
     "data": {
      "text/html": [
       "<div>\n",
       "<style scoped>\n",
       "    .dataframe tbody tr th:only-of-type {\n",
       "        vertical-align: middle;\n",
       "    }\n",
       "\n",
       "    .dataframe tbody tr th {\n",
       "        vertical-align: top;\n",
       "    }\n",
       "\n",
       "    .dataframe thead th {\n",
       "        text-align: right;\n",
       "    }\n",
       "</style>\n",
       "<table border=\"1\" class=\"dataframe\">\n",
       "  <thead>\n",
       "    <tr style=\"text-align: right;\">\n",
       "      <th></th>\n",
       "      <th>Open</th>\n",
       "      <th>High</th>\n",
       "      <th>Low</th>\n",
       "      <th>Close</th>\n",
       "      <th>Market Cap</th>\n",
       "    </tr>\n",
       "  </thead>\n",
       "  <tbody>\n",
       "    <tr>\n",
       "      <th>count</th>\n",
       "      <td>1592.000000</td>\n",
       "      <td>1592.000000</td>\n",
       "      <td>1592.000000</td>\n",
       "      <td>1592.000000</td>\n",
       "      <td>1.592000e+03</td>\n",
       "    </tr>\n",
       "    <tr>\n",
       "      <th>mean</th>\n",
       "      <td>658.283649</td>\n",
       "      <td>676.271727</td>\n",
       "      <td>641.050616</td>\n",
       "      <td>660.837795</td>\n",
       "      <td>9.964862e+09</td>\n",
       "    </tr>\n",
       "    <tr>\n",
       "      <th>std</th>\n",
       "      <td>723.653014</td>\n",
       "      <td>749.473657</td>\n",
       "      <td>699.635365</td>\n",
       "      <td>729.447612</td>\n",
       "      <td>1.209521e+10</td>\n",
       "    </tr>\n",
       "    <tr>\n",
       "      <th>min</th>\n",
       "      <td>68.500000</td>\n",
       "      <td>74.560000</td>\n",
       "      <td>65.530000</td>\n",
       "      <td>68.430000</td>\n",
       "      <td>7.792550e+08</td>\n",
       "    </tr>\n",
       "    <tr>\n",
       "      <th>25%</th>\n",
       "      <td>258.350000</td>\n",
       "      <td>263.930000</td>\n",
       "      <td>253.177500</td>\n",
       "      <td>258.592500</td>\n",
       "      <td>3.648115e+09</td>\n",
       "    </tr>\n",
       "    <tr>\n",
       "      <th>50%</th>\n",
       "      <td>444.885000</td>\n",
       "      <td>450.605000</td>\n",
       "      <td>437.180000</td>\n",
       "      <td>444.705000</td>\n",
       "      <td>6.449795e+09</td>\n",
       "    </tr>\n",
       "    <tr>\n",
       "      <th>75%</th>\n",
       "      <td>680.187500</td>\n",
       "      <td>703.960000</td>\n",
       "      <td>660.775000</td>\n",
       "      <td>682.142500</td>\n",
       "      <td>1.021785e+10</td>\n",
       "    </tr>\n",
       "    <tr>\n",
       "      <th>max</th>\n",
       "      <td>4901.420000</td>\n",
       "      <td>4975.040000</td>\n",
       "      <td>4678.530000</td>\n",
       "      <td>4892.010000</td>\n",
       "      <td>8.106060e+10</td>\n",
       "    </tr>\n",
       "  </tbody>\n",
       "</table>\n",
       "</div>"
      ],
      "text/plain": [
       "              Open         High          Low        Close    Market Cap\n",
       "count  1592.000000  1592.000000  1592.000000  1592.000000  1.592000e+03\n",
       "mean    658.283649   676.271727   641.050616   660.837795  9.964862e+09\n",
       "std     723.653014   749.473657   699.635365   729.447612  1.209521e+10\n",
       "min      68.500000    74.560000    65.530000    68.430000  7.792550e+08\n",
       "25%     258.350000   263.930000   253.177500   258.592500  3.648115e+09\n",
       "50%     444.885000   450.605000   437.180000   444.705000  6.449795e+09\n",
       "75%     680.187500   703.960000   660.775000   682.142500  1.021785e+10\n",
       "max    4901.420000  4975.040000  4678.530000  4892.010000  8.106060e+10"
      ]
     },
     "execution_count": 8,
     "metadata": {},
     "output_type": "execute_result"
    }
   ],
   "source": [
    "dfp.describe()"
   ]
  },
  {
   "cell_type": "code",
   "execution_count": 9,
   "metadata": {},
   "outputs": [
    {
     "data": {
      "text/plain": [
       "Index(['Sep 05, 2017', 'Sep 04, 2017', 'Sep 03, 2017', 'Sep 02, 2017',\n",
       "       'Sep 01, 2017', 'Aug 31, 2017', 'Aug 30, 2017', 'Aug 29, 2017',\n",
       "       'Aug 28, 2017', 'Aug 27, 2017',\n",
       "       ...\n",
       "       'May 07, 2013', 'May 06, 2013', 'May 05, 2013', 'May 04, 2013',\n",
       "       'May 03, 2013', 'May 02, 2013', 'May 01, 2013', 'Apr 30, 2013',\n",
       "       'Apr 29, 2013', 'Apr 28, 2013'],\n",
       "      dtype='object', name='Date', length=1592)"
      ]
     },
     "execution_count": 9,
     "metadata": {},
     "output_type": "execute_result"
    }
   ],
   "source": [
    "dfp.index"
   ]
  },
  {
   "cell_type": "code",
   "execution_count": 11,
   "metadata": {},
   "outputs": [],
   "source": [
    "dfp.index = pd.to_datetime(dfp.index)"
   ]
  },
  {
   "cell_type": "code",
   "execution_count": 15,
   "metadata": {},
   "outputs": [],
   "source": [
    "dfp.sort_index(ascending=True, inplace=True)"
   ]
  },
  {
   "cell_type": "code",
   "execution_count": 18,
   "metadata": {},
   "outputs": [
    {
     "data": {
      "text/html": [
       "<div>\n",
       "<style scoped>\n",
       "    .dataframe tbody tr th:only-of-type {\n",
       "        vertical-align: middle;\n",
       "    }\n",
       "\n",
       "    .dataframe tbody tr th {\n",
       "        vertical-align: top;\n",
       "    }\n",
       "\n",
       "    .dataframe thead th {\n",
       "        text-align: right;\n",
       "    }\n",
       "</style>\n",
       "<table border=\"1\" class=\"dataframe\">\n",
       "  <thead>\n",
       "    <tr style=\"text-align: right;\">\n",
       "      <th></th>\n",
       "      <th>Open</th>\n",
       "      <th>High</th>\n",
       "      <th>Low</th>\n",
       "      <th>Close</th>\n",
       "      <th>Volume</th>\n",
       "      <th>Market Cap</th>\n",
       "    </tr>\n",
       "    <tr>\n",
       "      <th>Date</th>\n",
       "      <th></th>\n",
       "      <th></th>\n",
       "      <th></th>\n",
       "      <th></th>\n",
       "      <th></th>\n",
       "      <th></th>\n",
       "    </tr>\n",
       "  </thead>\n",
       "  <tbody>\n",
       "    <tr>\n",
       "      <th>2013-04-28</th>\n",
       "      <td>135.30</td>\n",
       "      <td>135.98</td>\n",
       "      <td>132.10</td>\n",
       "      <td>134.21</td>\n",
       "      <td>-</td>\n",
       "      <td>1500520000</td>\n",
       "    </tr>\n",
       "    <tr>\n",
       "      <th>2013-04-29</th>\n",
       "      <td>134.44</td>\n",
       "      <td>147.49</td>\n",
       "      <td>134.00</td>\n",
       "      <td>144.54</td>\n",
       "      <td>-</td>\n",
       "      <td>1491160000</td>\n",
       "    </tr>\n",
       "    <tr>\n",
       "      <th>2013-04-30</th>\n",
       "      <td>144.00</td>\n",
       "      <td>146.93</td>\n",
       "      <td>134.05</td>\n",
       "      <td>139.00</td>\n",
       "      <td>-</td>\n",
       "      <td>1597780000</td>\n",
       "    </tr>\n",
       "    <tr>\n",
       "      <th>2013-05-01</th>\n",
       "      <td>139.00</td>\n",
       "      <td>139.89</td>\n",
       "      <td>107.72</td>\n",
       "      <td>116.99</td>\n",
       "      <td>-</td>\n",
       "      <td>1542820000</td>\n",
       "    </tr>\n",
       "    <tr>\n",
       "      <th>2013-05-02</th>\n",
       "      <td>116.38</td>\n",
       "      <td>125.60</td>\n",
       "      <td>92.28</td>\n",
       "      <td>105.21</td>\n",
       "      <td>-</td>\n",
       "      <td>1292190000</td>\n",
       "    </tr>\n",
       "  </tbody>\n",
       "</table>\n",
       "</div>"
      ],
      "text/plain": [
       "              Open    High     Low   Close Volume  Market Cap\n",
       "Date                                                         \n",
       "2013-04-28  135.30  135.98  132.10  134.21      -  1500520000\n",
       "2013-04-29  134.44  147.49  134.00  144.54      -  1491160000\n",
       "2013-04-30  144.00  146.93  134.05  139.00      -  1597780000\n",
       "2013-05-01  139.00  139.89  107.72  116.99      -  1542820000\n",
       "2013-05-02  116.38  125.60   92.28  105.21      -  1292190000"
      ]
     },
     "execution_count": 18,
     "metadata": {},
     "output_type": "execute_result"
    }
   ],
   "source": [
    "dfp.head()"
   ]
  },
  {
   "cell_type": "markdown",
   "metadata": {},
   "source": [
    "Here we can see that volume has values that are not numeric, let's see if this happen in all the columns"
   ]
  },
  {
   "cell_type": "code",
   "execution_count": 26,
   "metadata": {
    "scrolled": false
   },
   "outputs": [],
   "source": [
    "df = dfp[dfp.applymap(np.isreal)]"
   ]
  },
  {
   "cell_type": "code",
   "execution_count": 29,
   "metadata": {},
   "outputs": [
    {
     "data": {
      "text/plain": [
       "Open          0\n",
       "High          0\n",
       "Low           0\n",
       "Close         0\n",
       "Market Cap    0\n",
       "dtype: int64"
      ]
     },
     "execution_count": 29,
     "metadata": {},
     "output_type": "execute_result"
    }
   ],
   "source": [
    "df = df.loc[:, df.columns != 'Volume']\n",
    "\n",
    "len(df) - df.count()"
   ]
  },
  {
   "cell_type": "markdown",
   "metadata": {},
   "source": [
    "We can see that only Volume had non number values"
   ]
  },
  {
   "cell_type": "code",
   "execution_count": null,
   "metadata": {},
   "outputs": [],
   "source": []
  }
 ],
 "metadata": {
  "kernelspec": {
   "display_name": "Python 3",
   "language": "python",
   "name": "python3"
  },
  "language_info": {
   "codemirror_mode": {
    "name": "ipython",
    "version": 3
   },
   "file_extension": ".py",
   "mimetype": "text/x-python",
   "name": "python",
   "nbconvert_exporter": "python",
   "pygments_lexer": "ipython3",
   "version": "3.6.7"
  }
 },
 "nbformat": 4,
 "nbformat_minor": 2
}
